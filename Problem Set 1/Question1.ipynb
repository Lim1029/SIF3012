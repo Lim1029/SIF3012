{
 "cells": [
  {
   "cell_type": "code",
   "execution_count": 78,
   "metadata": {},
   "outputs": [],
   "source": [
    "def y_prime(x,y,z):\n",
    "    return z\n",
    "\n",
    "def z_prime(x,y,z):\n",
    "    return 6*(y**2)\n",
    "\n",
    "h=0.1\n",
    "x_0 = 0\n",
    "y_0 = 1\n",
    "z_0 = -1.8 #first guess\n",
    "z_0 = -1.9 #second guess\n",
    "z_0 = -2.011 #result from secant method"
   ]
  },
  {
   "cell_type": "code",
   "execution_count": 83,
   "metadata": {},
   "outputs": [
    {
     "name": "stdout",
     "output_type": "stream",
     "text": [
      "With Z_0= -2.011 \n",
      "\n",
      "x: 0.1 y: 0.7988999999999999 z: -1.3727025392557821\n",
      "x: 0.2 y: 0.6616297460744217 z: -0.9704776631415837\n",
      "x: 0.30000000000000004 y: 0.5645819797602634 z: -0.6969675974689036\n",
      "x: 0.4 y: 0.494885220013373 z: -0.4990101287771491\n",
      "x: 0.5 y: 0.44498420713565806 z: -0.3475664717317668\n"
     ]
    }
   ],
   "source": [
    "x = x_0\n",
    "y = y_0\n",
    "z = z_0\n",
    "print(\"With Z_0=\",z_0,\"\\n\")\n",
    "for i in range (5):\n",
    "    K_1 = h*y_prime(x,y,z)\n",
    "    K_2 = h*y_prime(x+(h/2),y+(K_1/2)*h,z)\n",
    "    K_3 = h*y_prime(x+(h/2),y+(K_2/2)*h,z)\n",
    "    K_4 = h*y_prime(x+h,y+K_3*h,z)\n",
    "    K_y = (K_1+2*K_2+2*K_3+K_4)/6\n",
    "\n",
    "    K_1 = h*z_prime(x,y,z)\n",
    "    K_2 = h*z_prime(x+(h/2),y+(K_1/2)*h,z)\n",
    "    K_3 = h*z_prime(x+(h/2),y+(K_2/2)*h,z)\n",
    "    K_4 = h*z_prime(x+h,y+K_3*h,z)\n",
    "    K_z = (K_1+2*K_2+2*K_3+K_4)/6\n",
    "\n",
    "    y = y + K_y\n",
    "    z = z + K_z\n",
    "    x = x+h\n",
    "\n",
    "    \n",
    "    print(\"x:\",x,\"y:\",y,\"z:\",z)\n",
    "\n"
   ]
  },
  {
   "cell_type": "code",
   "execution_count": 69,
   "metadata": {},
   "outputs": [],
   "source": [
    "def func(z_0):\n",
    "    x = x_0\n",
    "    y = y_0\n",
    "    z = z_0\n",
    "\n",
    "    for i in range (5):\n",
    "        K_1 = h*y_prime(x,y,z)\n",
    "        K_2 = h*y_prime(x+(h/2),y+(K_1/2)*h,z)\n",
    "        K_3 = h*y_prime(x+(h/2),y+(K_2/2)*h,z)\n",
    "        K_4 = h*y_prime(x+h,y+K_3*h,z)\n",
    "        K_y = (K_1+2*K_2+2*K_3+K_4)/6\n",
    "\n",
    "        K_1 = h*z_prime(x,y,z)\n",
    "        K_2 = h*z_prime(x+(h/2),y+(K_1/2)*h,z)\n",
    "        K_3 = h*z_prime(x+(h/2),y+(K_2/2)*h,z)\n",
    "        K_4 = h*z_prime(x+h,y+K_3*h,z)\n",
    "        K_z = (K_1+2*K_2+2*K_3+K_4)/6\n",
    "\n",
    "        y = y + K_y\n",
    "        z = z + K_z\n",
    "        x = x+h\n",
    "\n",
    "        # print(x,y,z)\n",
    "    return y-4/9"
   ]
  },
  {
   "cell_type": "code",
   "execution_count": 70,
   "metadata": {},
   "outputs": [
    {
     "data": {
      "text/plain": [
       "0.12499243392674075"
      ]
     },
     "execution_count": 70,
     "metadata": {},
     "output_type": "execute_result"
    }
   ],
   "source": [
    "func(z_0=-1.8)"
   ]
  },
  {
   "cell_type": "code",
   "execution_count": 86,
   "metadata": {},
   "outputs": [
    {
     "name": "stdout",
     "output_type": "stream",
     "text": [
      "iteration: 0 x = -2.0113567374229704\n",
      "iteration: 1 x = -2.0119182588956956\n",
      "iteration: 2 x = -2.0119197569109315\n",
      "iteration: 3 x = -2.0119197569309986\n",
      "iteration: 4 x = -2.011919756930998\n"
     ]
    }
   ],
   "source": [
    "#secant method\n",
    "\n",
    "\n",
    "def secant(x_i, x_ip):\n",
    "    return x_i - (func(x_i)*(x_ip-x_i))/(func(x_ip)-func(x_i))\n",
    "x_ip = -1.8\n",
    "x_i = -1.9\n",
    "for i in range (5):\n",
    "    \n",
    "    x_new = secant(x_i,x_ip)\n",
    "    x_ip = x_i\n",
    "    x_i = x_new\n",
    "\n",
    "    print(\"iteration:\",i,\"x =\", x_new)"
   ]
  }
 ],
 "metadata": {
  "kernelspec": {
   "display_name": "Python 3.11.0 64-bit",
   "language": "python",
   "name": "python3"
  },
  "language_info": {
   "codemirror_mode": {
    "name": "ipython",
    "version": 3
   },
   "file_extension": ".py",
   "mimetype": "text/x-python",
   "name": "python",
   "nbconvert_exporter": "python",
   "pygments_lexer": "ipython3",
   "version": "3.11.0"
  },
  "orig_nbformat": 4,
  "vscode": {
   "interpreter": {
    "hash": "4856cca04f5d76269cba933495eab3ba92c1df671ca5fc03ada123fc154ebc27"
   }
  }
 },
 "nbformat": 4,
 "nbformat_minor": 2
}
