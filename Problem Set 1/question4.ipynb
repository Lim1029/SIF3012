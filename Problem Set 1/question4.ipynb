{
 "cells": [
  {
   "cell_type": "code",
   "execution_count": 87,
   "metadata": {},
   "outputs": [],
   "source": [
    "# By Ming Kang u2004991\n",
    "\n",
    "\n",
    "# Note that the row and column has interchanged. \n",
    "# i = row and j = columns in python versus i = columns and j = row in hand writing\n",
    "\n",
    "# Initialise an array storing values. initially all values are 0\n",
    "T = [\n",
    "    [0,0,0,0,0,0,0,0,0,0],\n",
    "    [0,0,0,0,0,0,0,0,0,0],\n",
    "    [0,0,0,0,0,0,0,0,0,0],\n",
    "    [0,0,0,0,0,0,0,0,0,0],\n",
    "    [0,0,0,0,0,0,0,0,0,0],\n",
    "    [0,0,0,0,0,0,0,0,0,0],\n",
    "]\n",
    "\n",
    "#Apply boundary conditions\n",
    "for j in range (10):\n",
    "    T[0][j] = 100\n",
    "\n",
    "for j in range (10):\n",
    "    T[5][j] = 25\n",
    "\n",
    "for i in range (1,5):\n",
    "    T[i][0] = 20"
   ]
  },
  {
   "cell_type": "code",
   "execution_count": 79,
   "metadata": {},
   "outputs": [
    {
     "data": {
      "text/plain": [
       "[[100, 100, 100, 100, 100, 100, 100, 100, 100, 100],\n",
       " [20, 0, 0, 0, 0, 0, 0, 0, 0, 0],\n",
       " [20, 0, 0, 0, 0, 0, 0, 0, 0, 0],\n",
       " [20, 0, 0, 0, 0, 0, 0, 0, 0, 0],\n",
       " [20, 0, 0, 0, 0, 0, 0, 0, 0, 0],\n",
       " [25, 25, 25, 25, 25, 25, 25, 25, 25, 25]]"
      ]
     },
     "execution_count": 79,
     "metadata": {},
     "output_type": "execute_result"
    }
   ],
   "source": [
    "T"
   ]
  },
  {
   "cell_type": "code",
   "execution_count": 88,
   "metadata": {},
   "outputs": [],
   "source": [
    "k = 54\n",
    "rho = 7800\n",
    "c_p = 490\n",
    "alpha = k/(rho*c_p)\n",
    "delta_t = 3\n",
    "delta_x = 0.01"
   ]
  },
  {
   "cell_type": "code",
   "execution_count": 73,
   "metadata": {},
   "outputs": [],
   "source": [
    "#Explicit Method\n",
    "for j in range (9):\n",
    "    for i in range (1,5):\n",
    "        T[i][j+1] = T[i][j] + ((alpha*delta_t)/(delta_x)**2)*(T[i-1][j]-2*T[i][j]+T[i+1][j])"
   ]
  },
  {
   "cell_type": "code",
   "execution_count": 89,
   "metadata": {},
   "outputs": [],
   "source": [
    "#Crank Nicolson Method\n",
    "for j in range (9):\n",
    "    for i in range (1,5):\n",
    "        T[i][j+1] = T[i][j] + ((alpha*delta_t)/(2*(delta_x)**2))*((T[i-1][j]-2*T[i][j]+T[i+1][j])+(T[i-1][j+1]-2*T[i][j+1]+T[i+1][j+1]))"
   ]
  },
  {
   "cell_type": "code",
   "execution_count": 90,
   "metadata": {},
   "outputs": [
    {
     "data": {
      "text/plain": [
       "[[100, 100, 100, 100, 100, 100, 100, 100, 100, 100],\n",
       " [20,\n",
       "  58.14756671899529,\n",
       "  82.73751667439772,\n",
       "  101.53493137918338,\n",
       "  117.5984279342247,\n",
       "  132.34050876414133,\n",
       "  146.5131216427736,\n",
       "  160.57087566580006,\n",
       "  174.82047248173237,\n",
       "  189.48815494117895],\n",
       " [20,\n",
       "  32.32326767200057,\n",
       "  54.170982733598834,\n",
       "  78.86576872548765,\n",
       "  104.75763726590786,\n",
       "  131.55475385190306,\n",
       "  159.35801597197576,\n",
       "  188.37873778899927,\n",
       "  218.85067627211265,\n",
       "  251.00372980532126],\n",
       " [20,\n",
       "  26.850300056075476,\n",
       "  40.59232242719568,\n",
       "  60.76943932458701,\n",
       "  86.01902868736781,\n",
       "  115.44608448567868,\n",
       "  148.56684794977772,\n",
       "  185.1485334581936,\n",
       "  225.10750364467606,\n",
       "  268.4543618988088],\n",
       " [20,\n",
       "  32.048336746578,\n",
       "  43.353993125958766,\n",
       "  57.05612765104793,\n",
       "  74.57777398673232,\n",
       "  96.26033490030147,\n",
       "  122.00830264866131,\n",
       "  151.61479366112218,\n",
       "  184.8935546036409,\n",
       "  221.72179966704343],\n",
       " [25, 25, 25, 25, 25, 25, 25, 25, 25, 25]]"
      ]
     },
     "execution_count": 90,
     "metadata": {},
     "output_type": "execute_result"
    }
   ],
   "source": [
    "T"
   ]
  },
  {
   "cell_type": "code",
   "execution_count": null,
   "metadata": {},
   "outputs": [],
   "source": []
  },
  {
   "cell_type": "code",
   "execution_count": null,
   "metadata": {},
   "outputs": [],
   "source": []
  },
  {
   "cell_type": "code",
   "execution_count": null,
   "metadata": {},
   "outputs": [],
   "source": []
  }
 ],
 "metadata": {
  "kernelspec": {
   "display_name": "Python 3.11.0 64-bit",
   "language": "python",
   "name": "python3"
  },
  "language_info": {
   "codemirror_mode": {
    "name": "ipython",
    "version": 3
   },
   "file_extension": ".py",
   "mimetype": "text/x-python",
   "name": "python",
   "nbconvert_exporter": "python",
   "pygments_lexer": "ipython3",
   "version": "3.11.0"
  },
  "orig_nbformat": 4,
  "vscode": {
   "interpreter": {
    "hash": "4856cca04f5d76269cba933495eab3ba92c1df671ca5fc03ada123fc154ebc27"
   }
  }
 },
 "nbformat": 4,
 "nbformat_minor": 2
}
