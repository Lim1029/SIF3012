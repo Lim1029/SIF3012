{
 "cells": [
  {
   "cell_type": "code",
   "execution_count": 2,
   "metadata": {},
   "outputs": [
    {
     "ename": "NameError",
     "evalue": "name 's' is not defined",
     "output_type": "error",
     "traceback": [
      "\u001b[1;31m---------------------------------------------------------------------------\u001b[0m",
      "\u001b[1;31mNameError\u001b[0m                                 Traceback (most recent call last)",
      "Cell \u001b[1;32mIn[2], line 20\u001b[0m\n\u001b[0;32m      2\u001b[0m \u001b[39m# import numpy as np\u001b[39;00m\n\u001b[0;32m      3\u001b[0m \u001b[39m# import matplotlib.pyplot as plt\u001b[39;00m\n\u001b[0;32m      4\u001b[0m \n\u001b[1;32m   (...)\u001b[0m\n\u001b[0;32m     16\u001b[0m \u001b[39m# s = ((b-a)/6)(f(a) + (4f((a+b)/2)) + f(b))\u001b[39;00m\n\u001b[0;32m     17\u001b[0m \u001b[39m# print(s)\u001b[39;00m\n\u001b[0;32m     19\u001b[0m r \u001b[39m=\u001b[39m random\u001b[39m.\u001b[39mrandom()\n\u001b[1;32m---> 20\u001b[0m \u001b[39mfor\u001b[39;00m i \u001b[39min\u001b[39;00m s:\n\u001b[0;32m     21\u001b[0m     \u001b[39mif\u001b[39;00m r \u001b[39m>\u001b[39m\u001b[39m=\u001b[39m i:\n\u001b[0;32m     22\u001b[0m         \u001b[39mprint\u001b[39m(i, r)\n",
      "\u001b[1;31mNameError\u001b[0m: name 's' is not defined"
     ]
    }
   ],
   "source": [
    "import random\n",
    "import numpy as np\n",
    "import matplotlib.pyplot as plt\n",
    "\n",
    "a = 0\n",
    "b = np.arange(0, 100, 1)\n",
    "\n",
    "def f(v):\n",
    "    \"\"\" Maxwell-Boltzmann speed distribution for speeds \"\"\"\n",
    "    kB = 1.38e-23\n",
    "    m = 2.6569e-26\n",
    "    T = 300\n",
    "    return (m/(2*np.pikBT))**1.5 * 4*np.p(v2) * np.exp(-m*v2/(2*kB*T))\n",
    "\n",
    "\n",
    "s = ((b-a)/6)(f(a) + (4*f((a+b)/2)) + f(b))\n",
    "print(s)\n",
    "\n",
    "r = random.random()\n",
    "for i in s:\n",
    "    if r >= i:\n",
    "        print(i, r)\n",
    "        break\n",
    "\n",
    "\n",
    "plt.plot(b, s)\n",
    "\n",
    "plt.show()"
   ]
  },
  {
   "cell_type": "markdown",
   "metadata": {},
   "source": []
  },
  {
   "cell_type": "code",
   "execution_count": null,
   "metadata": {},
   "outputs": [],
   "source": []
  }
 ],
 "metadata": {
  "kernelspec": {
   "display_name": "Python 3.11.0 64-bit",
   "language": "python",
   "name": "python3"
  },
  "language_info": {
   "codemirror_mode": {
    "name": "ipython",
    "version": 3
   },
   "file_extension": ".py",
   "mimetype": "text/x-python",
   "name": "python",
   "nbconvert_exporter": "python",
   "pygments_lexer": "ipython3",
   "version": "3.11.0"
  },
  "orig_nbformat": 4,
  "vscode": {
   "interpreter": {
    "hash": "4856cca04f5d76269cba933495eab3ba92c1df671ca5fc03ada123fc154ebc27"
   }
  }
 },
 "nbformat": 4,
 "nbformat_minor": 2
}
